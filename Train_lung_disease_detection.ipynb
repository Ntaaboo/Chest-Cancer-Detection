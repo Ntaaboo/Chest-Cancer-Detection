{
 "cells": [
  {
   "cell_type": "markdown",
   "id": "0b39620f",
   "metadata": {},
   "source": [
    "# CHEST CANCER PREDICTION\n",
    "Link for Dataset=https://www.kaggle.com/datasets/mohamedhanyyy/chest-ctscan-images\n",
    "# Importing Necessary Libraries\n"
   ]
  },
  {
   "cell_type": "code",
   "execution_count": 1,
   "id": "f595432c",
   "metadata": {},
   "outputs": [
    {
     "name": "stdout",
     "output_type": "stream",
     "text": [
      "WARNING:tensorflow:From C:\\Users\\BOSS\\anaconda3\\lib\\site-packages\\keras\\src\\losses.py:2976: The name tf.losses.sparse_softmax_cross_entropy is deprecated. Please use tf.compat.v1.losses.sparse_softmax_cross_entropy instead.\n",
      "\n"
     ]
    }
   ],
   "source": [
    "\n",
    "import numpy as np\n",
    "import os\n",
    "import warnings\n",
    "warnings.filterwarnings('ignore')\n",
    "import pandas as pd\n",
    "import matplotlib.pyplot as plt\n",
    "import tensorflow as tf\n",
    "from tensorflow.keras.preprocessing.image import ImageDataGenerator \n",
    "from tensorflow import keras\n",
    "from keras.models import Sequential\n",
    "from keras.layers import Dense, Conv2D, MaxPooling2D\n",
    "from keras.layers import Dense, Activation, Flatten, Dropout\n",
    "import seaborn as sn\n",
    "%matplotlib inline"
   ]
  },
  {
   "cell_type": "code",
   "execution_count": 2,
   "id": "799d25b2",
   "metadata": {},
   "outputs": [],
   "source": [
    "train_folder='C:\\\\Users\\\\BOSS\\\\Desktop\\\\lung_dis_data\\\\train'\n",
    "test_folder='C:\\\\Users\\\\BOSS\\\\Desktop\\\\lung_dis_data\\\\test'\n",
    "val_folder  = 'C:\\\\Users\\\\BOSS\\\\Desktop\\\\lung_dis_data\\\\valid'"
   ]
  },
  {
   "cell_type": "code",
   "execution_count": 3,
   "id": "2f279d10",
   "metadata": {},
   "outputs": [
    {
     "name": "stdout",
     "output_type": "stream",
     "text": [
      "\n",
      "\n",
      "\t\tTraining Data\n",
      "\t  ========================\n",
      "\n",
      "\n",
      "Train adenocarcinoma_left.lower.lobe_T2_N0_M0_Ib Class:  195\n",
      "\n",
      "Train large.cell.carcinoma_left.hilum_T2_N2_M0_IIIa Class:  115\n",
      "\n",
      "Train normal Class:  148\n",
      "\n",
      "Train squamous.cell.carcinoma_left.hilum_T1_N2_M0_IIIa Class:  155\n",
      "\n",
      "\n",
      " ['adenocarcinoma_left.lower.lobe_T2_N0_M0_Ib', 'large.cell.carcinoma_left.hilum_T2_N2_M0_IIIa', 'normal', 'squamous.cell.carcinoma_left.hilum_T1_N2_M0_IIIa']\n",
      "\n",
      "\n",
      "\t\tTesting Data\n",
      "\t  ========================\n",
      "\n",
      "\n",
      "Test adenocarcinoma Class:  120\n",
      "\n",
      "Test large.cell.carcinoma Class:  51\n",
      "\n",
      "Test normal Class:  54\n",
      "\n",
      "Test squamous.cell.carcinoma Class:  90\n",
      "\n",
      "\n",
      " ['adenocarcinoma', 'large.cell.carcinoma', 'normal', 'squamous.cell.carcinoma']\n",
      "\n",
      "\n",
      "\t\tValidation Data\n",
      "\t  ========================\n",
      "\n",
      "\n",
      "Validation adenocarcinoma_left.lower.lobe_T2_N0_M0_Ib Class:  23\n",
      "\n",
      "Validation large.cell.carcinoma_left.hilum_T2_N2_M0_IIIa Class:  21\n",
      "\n",
      "Validation normal Class:  13\n",
      "\n",
      "Validation squamous.cell.carcinoma_left.hilum_T1_N2_M0_IIIa Class:  15\n",
      "\n",
      "\n",
      " ['adenocarcinoma_left.lower.lobe_T2_N0_M0_Ib', 'large.cell.carcinoma_left.hilum_T2_N2_M0_IIIa', 'normal', 'squamous.cell.carcinoma_left.hilum_T1_N2_M0_IIIa'] \n",
      "\n"
     ]
    }
   ],
   "source": [
    "print(\"\\n\\n\\t\\tTraining Data\")\n",
    "print(\"\\t  ========================\\n\")\n",
    "train_c = []\n",
    "for folder in os.listdir(train_folder):\n",
    "    train_c.append(folder)\n",
    "    print(\"\\nTrain \"+ folder + \" Class: \", len(os.listdir(train_folder + '/' + folder)))\n",
    "\n",
    "print(\"\\n\\n\", train_c)\n",
    "\n",
    "print(\"\\n\\n\\t\\tTesting Data\")\n",
    "print(\"\\t  ========================\\n\")\n",
    "test_c = []\n",
    "for folder in os.listdir(test_folder):\n",
    "    test_c.append(folder)\n",
    "    print(\"\\nTest \"+ folder + \" Class: \", len(os.listdir(test_folder + '/' + folder)))\n",
    "\n",
    "print(\"\\n\\n\", test_c)\n",
    "\n",
    "print(\"\\n\\n\\t\\tValidation Data\")\n",
    "print(\"\\t  ========================\\n\")\n",
    "val_c = []\n",
    "for folder in os.listdir(val_folder):\n",
    "    val_c.append(folder)\n",
    "    print(\"\\nValidation \"+ folder + \" Class: \", len(os.listdir(val_folder + '/' + folder)))\n",
    "\n",
    "print(\"\\n\\n\", val_c, \"\\n\")"
   ]
  },
  {
   "cell_type": "code",
   "execution_count": 4,
   "id": "491edc25",
   "metadata": {},
   "outputs": [
    {
     "name": "stdout",
     "output_type": "stream",
     "text": [
      "Found 613 files belonging to 4 classes.\n"
     ]
    }
   ],
   "source": [
    "\n",
    "\n",
    "train_data = tf.keras.utils.image_dataset_from_directory(\n",
    "    'train',\n",
    "    labels=\"inferred\",\n",
    "    label_mode=\"categorical\",\n",
    "    class_names=None,\n",
    "    color_mode=\"rgb\",\n",
    "    batch_size=16,\n",
    "    image_size=(128, 128),\n",
    "    shuffle=True,\n",
    "    seed=None,\n",
    "    validation_split=None,\n",
    "    subset=None,\n",
    "    interpolation=\"bilinear\",\n",
    "    follow_links=False,\n",
    "    crop_to_aspect_ratio=False\n",
    ")\n"
   ]
  },
  {
   "cell_type": "code",
   "execution_count": 5,
   "id": "42b86d74",
   "metadata": {},
   "outputs": [
    {
     "name": "stdout",
     "output_type": "stream",
     "text": [
      "Found 72 files belonging to 4 classes.\n"
     ]
    }
   ],
   "source": [
    "val_data = tf.keras.utils.image_dataset_from_directory(\n",
    "    'valid',\n",
    "    labels=\"inferred\",\n",
    "    label_mode=\"categorical\",\n",
    "    class_names=None,\n",
    "    color_mode=\"rgb\",\n",
    "    batch_size=16,\n",
    "    image_size=(128, 128),\n",
    "    shuffle=True,\n",
    "    seed=None,\n",
    "    validation_split=None,\n",
    "    subset=None,\n",
    "    interpolation=\"bilinear\",\n",
    "    follow_links=False,\n",
    "    crop_to_aspect_ratio=False\n",
    ")\n"
   ]
  },
  {
   "cell_type": "markdown",
   "id": "bb8c6095",
   "metadata": {},
   "source": [
    "# Buiding the Model and CNN Layer"
   ]
  },
  {
   "cell_type": "code",
   "execution_count": 6,
   "id": "f8ece7f1",
   "metadata": {},
   "outputs": [
    {
     "name": "stdout",
     "output_type": "stream",
     "text": [
      "WARNING:tensorflow:From C:\\Users\\BOSS\\anaconda3\\lib\\site-packages\\keras\\src\\backend.py:873: The name tf.get_default_graph is deprecated. Please use tf.compat.v1.get_default_graph instead.\n",
      "\n",
      "WARNING:tensorflow:From C:\\Users\\BOSS\\anaconda3\\lib\\site-packages\\keras\\src\\layers\\pooling\\max_pooling2d.py:161: The name tf.nn.max_pool is deprecated. Please use tf.nn.max_pool2d instead.\n",
      "\n"
     ]
    }
   ],
   "source": [
    "ml_model = tf.keras.models.Sequential()\n",
    "ml_model.add(tf.keras.layers.Conv2D(32,(3,3),activation='relu',padding='same',input_shape=[128,128,3]))\n",
    "ml_model.add(tf.keras.layers.Conv2D(32,(3,3),activation ='relu',padding ='same'))\n",
    "ml_model.add(tf.keras.layers.MaxPooling2D(strides=2, pool_size = 2 ))"
   ]
  },
  {
   "cell_type": "code",
   "execution_count": 7,
   "id": "6065a4ed",
   "metadata": {},
   "outputs": [],
   "source": [
    "ml_model.add(tf.keras.layers.Conv2D(64,(3,3), activation ='relu', padding = 'same'))\n",
    "ml_model.add(tf.keras.layers.Conv2D(64,(3,3),activation='relu', padding ='same'))\n",
    "ml_model.add(tf.keras.layers.MaxPooling2D(strides=2, pool_size =2))"
   ]
  },
  {
   "cell_type": "code",
   "execution_count": 8,
   "id": "c4ba4d0b",
   "metadata": {},
   "outputs": [],
   "source": [
    "ml_model.add(tf.keras.layers.Conv2D(128,(3,3), activation ='relu', padding = 'same'))\n",
    "ml_model.add(tf.keras.layers.Conv2D(128,(3,3),activation='relu', padding ='same'))\n",
    "ml_model.add(tf.keras.layers.MaxPooling2D(strides=2, pool_size =2))"
   ]
  },
  {
   "cell_type": "code",
   "execution_count": 9,
   "id": "f812543e",
   "metadata": {},
   "outputs": [],
   "source": [
    "ml_model.add(tf.keras.layers.Conv2D(256,(3,3), activation ='relu', padding = 'same'))\n",
    "ml_model.add(tf.keras.layers.Conv2D(256,(3,3),activation='relu', padding ='same'))\n",
    "ml_model.add(tf.keras.layers.MaxPooling2D(strides=2, pool_size =2))"
   ]
  },
  {
   "cell_type": "code",
   "execution_count": 10,
   "id": "418f7091",
   "metadata": {},
   "outputs": [],
   "source": [
    "ml_model.add(tf.keras.layers.Flatten())"
   ]
  },
  {
   "cell_type": "code",
   "execution_count": 11,
   "id": "5527c5dc",
   "metadata": {},
   "outputs": [],
   "source": [
    "#Creating a Dense layer\n",
    "ml_model.add(tf.keras.layers.Dense(1500, activation ='relu'))\n",
    "ml_model.add(tf.keras.layers.Dropout(0.5)) # We do this to avoid overfitting"
   ]
  },
  {
   "cell_type": "code",
   "execution_count": 12,
   "id": "c8e543bf",
   "metadata": {},
   "outputs": [],
   "source": [
    "#because  we are solving a 4 class problem and we need the probibility of each class\n",
    "ml_model.add(tf.keras.layers.Dense(4,activation ='softmax')) "
   ]
  },
  {
   "cell_type": "markdown",
   "id": "70447dc5",
   "metadata": {},
   "source": [
    "# Compilation and Training Phase"
   ]
  },
  {
   "cell_type": "code",
   "execution_count": 13,
   "id": "84468dee",
   "metadata": {},
   "outputs": [
    {
     "name": "stdout",
     "output_type": "stream",
     "text": [
      "Model: \"sequential\"\n",
      "_________________________________________________________________\n",
      " Layer (type)                Output Shape              Param #   \n",
      "=================================================================\n",
      " conv2d (Conv2D)             (None, 128, 128, 32)      896       \n",
      "                                                                 \n",
      " conv2d_1 (Conv2D)           (None, 128, 128, 32)      9248      \n",
      "                                                                 \n",
      " max_pooling2d (MaxPooling2  (None, 64, 64, 32)        0         \n",
      " D)                                                              \n",
      "                                                                 \n",
      " conv2d_2 (Conv2D)           (None, 64, 64, 64)        18496     \n",
      "                                                                 \n",
      " conv2d_3 (Conv2D)           (None, 64, 64, 64)        36928     \n",
      "                                                                 \n",
      " max_pooling2d_1 (MaxPoolin  (None, 32, 32, 64)        0         \n",
      " g2D)                                                            \n",
      "                                                                 \n",
      " conv2d_4 (Conv2D)           (None, 32, 32, 128)       73856     \n",
      "                                                                 \n",
      " conv2d_5 (Conv2D)           (None, 32, 32, 128)       147584    \n",
      "                                                                 \n",
      " max_pooling2d_2 (MaxPoolin  (None, 16, 16, 128)       0         \n",
      " g2D)                                                            \n",
      "                                                                 \n",
      " conv2d_6 (Conv2D)           (None, 16, 16, 256)       295168    \n",
      "                                                                 \n",
      " conv2d_7 (Conv2D)           (None, 16, 16, 256)       590080    \n",
      "                                                                 \n",
      " max_pooling2d_3 (MaxPoolin  (None, 8, 8, 256)         0         \n",
      " g2D)                                                            \n",
      "                                                                 \n",
      " flatten (Flatten)           (None, 16384)             0         \n",
      "                                                                 \n",
      " dense (Dense)               (None, 1500)              24577500  \n",
      "                                                                 \n",
      " dropout (Dropout)           (None, 1500)              0         \n",
      "                                                                 \n",
      " dense_1 (Dense)             (None, 4)                 6004      \n",
      "                                                                 \n",
      "=================================================================\n",
      "Total params: 25755760 (98.25 MB)\n",
      "Trainable params: 25755760 (98.25 MB)\n",
      "Non-trainable params: 0 (0.00 Byte)\n",
      "_________________________________________________________________\n"
     ]
    }
   ],
   "source": [
    "ml_model.compile(optimizer = tf.keras.optimizers.legacy.Adam(learning_rate=0.001),loss='categorical_crossentropy',\n",
    "                 metrics=['accuracy'])\n",
    "ml_model.summary()"
   ]
  },
  {
   "cell_type": "code",
   "execution_count": 14,
   "id": "da404d89",
   "metadata": {},
   "outputs": [
    {
     "name": "stdout",
     "output_type": "stream",
     "text": [
      "Epoch 1/30\n",
      "WARNING:tensorflow:From C:\\Users\\BOSS\\anaconda3\\lib\\site-packages\\keras\\src\\utils\\tf_utils.py:492: The name tf.ragged.RaggedTensorValue is deprecated. Please use tf.compat.v1.ragged.RaggedTensorValue instead.\n",
      "\n",
      "WARNING:tensorflow:From C:\\Users\\BOSS\\anaconda3\\lib\\site-packages\\keras\\src\\engine\\base_layer_utils.py:384: The name tf.executing_eagerly_outside_functions is deprecated. Please use tf.compat.v1.executing_eagerly_outside_functions instead.\n",
      "\n",
      "39/39 [==============================] - 39s 942ms/step - loss: 9.3667 - accuracy: 0.2855 - val_loss: 1.3753 - val_accuracy: 0.3472\n",
      "Epoch 2/30\n",
      "39/39 [==============================] - 38s 961ms/step - loss: 1.1615 - accuracy: 0.4535 - val_loss: 1.0050 - val_accuracy: 0.5417\n",
      "Epoch 3/30\n",
      "39/39 [==============================] - 38s 960ms/step - loss: 0.9046 - accuracy: 0.6069 - val_loss: 0.8111 - val_accuracy: 0.6667\n",
      "Epoch 4/30\n",
      "39/39 [==============================] - 37s 948ms/step - loss: 0.7747 - accuracy: 0.6623 - val_loss: 0.9016 - val_accuracy: 0.5139\n",
      "Epoch 5/30\n",
      "39/39 [==============================] - 39s 978ms/step - loss: 0.7309 - accuracy: 0.7129 - val_loss: 0.6646 - val_accuracy: 0.7500\n",
      "Epoch 6/30\n",
      "39/39 [==============================] - 37s 951ms/step - loss: 0.5553 - accuracy: 0.7618 - val_loss: 0.7476 - val_accuracy: 0.7083\n",
      "Epoch 7/30\n",
      "39/39 [==============================] - 38s 962ms/step - loss: 0.4894 - accuracy: 0.8042 - val_loss: 0.9233 - val_accuracy: 0.6389\n",
      "Epoch 8/30\n",
      "39/39 [==============================] - 38s 971ms/step - loss: 0.4791 - accuracy: 0.8026 - val_loss: 0.8633 - val_accuracy: 0.7083\n",
      "Epoch 9/30\n",
      "39/39 [==============================] - 38s 968ms/step - loss: 0.3311 - accuracy: 0.8777 - val_loss: 0.6411 - val_accuracy: 0.7917\n",
      "Epoch 10/30\n",
      "39/39 [==============================] - 38s 961ms/step - loss: 0.4503 - accuracy: 0.8238 - val_loss: 0.7364 - val_accuracy: 0.7917\n",
      "Epoch 11/30\n",
      "39/39 [==============================] - 39s 998ms/step - loss: 0.2446 - accuracy: 0.9152 - val_loss: 1.4421 - val_accuracy: 0.6389\n",
      "Epoch 12/30\n",
      "39/39 [==============================] - 37s 950ms/step - loss: 0.2218 - accuracy: 0.9152 - val_loss: 1.0313 - val_accuracy: 0.7917\n",
      "Epoch 13/30\n",
      "39/39 [==============================] - 38s 965ms/step - loss: 0.1503 - accuracy: 0.9576 - val_loss: 0.5312 - val_accuracy: 0.8056\n",
      "Epoch 14/30\n",
      "39/39 [==============================] - 38s 963ms/step - loss: 0.1791 - accuracy: 0.9266 - val_loss: 1.3037 - val_accuracy: 0.6944\n",
      "Epoch 15/30\n",
      "39/39 [==============================] - 39s 979ms/step - loss: 0.1768 - accuracy: 0.9380 - val_loss: 0.6955 - val_accuracy: 0.8056\n",
      "Epoch 16/30\n",
      "39/39 [==============================] - 38s 968ms/step - loss: 0.0826 - accuracy: 0.9739 - val_loss: 1.1356 - val_accuracy: 0.7778\n",
      "Epoch 17/30\n",
      "39/39 [==============================] - 38s 955ms/step - loss: 0.0728 - accuracy: 0.9706 - val_loss: 0.8789 - val_accuracy: 0.8056\n",
      "Epoch 18/30\n",
      "39/39 [==============================] - 37s 951ms/step - loss: 0.1587 - accuracy: 0.9560 - val_loss: 0.9038 - val_accuracy: 0.7222\n",
      "Epoch 19/30\n",
      "39/39 [==============================] - 38s 957ms/step - loss: 0.1688 - accuracy: 0.9478 - val_loss: 0.9154 - val_accuracy: 0.7778\n",
      "Epoch 20/30\n",
      "39/39 [==============================] - 37s 951ms/step - loss: 0.1376 - accuracy: 0.9543 - val_loss: 0.5277 - val_accuracy: 0.8333\n",
      "Epoch 21/30\n",
      "39/39 [==============================] - 38s 975ms/step - loss: 0.0694 - accuracy: 0.9772 - val_loss: 0.7585 - val_accuracy: 0.7917\n",
      "Epoch 22/30\n",
      "39/39 [==============================] - 38s 967ms/step - loss: 0.0705 - accuracy: 0.9821 - val_loss: 0.6377 - val_accuracy: 0.8333\n",
      "Epoch 23/30\n",
      "39/39 [==============================] - 38s 975ms/step - loss: 0.0252 - accuracy: 0.9902 - val_loss: 0.4063 - val_accuracy: 0.8750\n",
      "Epoch 24/30\n",
      "39/39 [==============================] - 38s 953ms/step - loss: 0.0141 - accuracy: 0.9951 - val_loss: 0.4180 - val_accuracy: 0.8611\n",
      "Epoch 25/30\n",
      "39/39 [==============================] - 38s 958ms/step - loss: 0.0117 - accuracy: 0.9967 - val_loss: 0.3977 - val_accuracy: 0.8889\n",
      "Epoch 26/30\n",
      "39/39 [==============================] - 38s 955ms/step - loss: 0.0148 - accuracy: 0.9984 - val_loss: 0.4418 - val_accuracy: 0.8889\n",
      "Epoch 27/30\n",
      "39/39 [==============================] - 40s 1s/step - loss: 0.0107 - accuracy: 0.9967 - val_loss: 0.4295 - val_accuracy: 0.9028\n",
      "Epoch 28/30\n",
      "39/39 [==============================] - 37s 943ms/step - loss: 0.0097 - accuracy: 0.9967 - val_loss: 0.4490 - val_accuracy: 0.8889\n",
      "Epoch 29/30\n",
      "39/39 [==============================] - 38s 969ms/step - loss: 0.0012 - accuracy: 1.0000 - val_loss: 0.4536 - val_accuracy: 0.8889\n",
      "Epoch 30/30\n",
      "39/39 [==============================] - 38s 961ms/step - loss: 0.0068 - accuracy: 0.9984 - val_loss: 0.4585 - val_accuracy: 0.8889\n"
     ]
    }
   ],
   "source": [
    "epochs =30\n",
    "history = ml_model.fit(\n",
    "    train_data,\n",
    "    validation_data=val_data,\n",
    "    epochs=epochs,\n",
    ")"
   ]
  },
  {
   "cell_type": "code",
   "execution_count": 15,
   "id": "eb7fb736",
   "metadata": {},
   "outputs": [
    {
     "name": "stdout",
     "output_type": "stream",
     "text": [
      "39/39 [==============================] - 10s 253ms/step - loss: 0.0025 - accuracy: 0.9984\n",
      "Training accuracy: 0.9983686804771423\n"
     ]
    }
   ],
   "source": [
    "#Performing model evaluation\n",
    "train_loss,train_acc = ml_model.evaluate(train_data)\n",
    "print('Training accuracy:', train_acc)"
   ]
  },
  {
   "cell_type": "code",
   "execution_count": 16,
   "id": "cd1f96e4",
   "metadata": {},
   "outputs": [
    {
     "name": "stdout",
     "output_type": "stream",
     "text": [
      "5/5 [==============================] - 1s 218ms/step - loss: 0.4585 - accuracy: 0.8889\n",
      "Validation accuracy: 0.8888888955116272\n"
     ]
    }
   ],
   "source": [
    "val_loss, val_acc = ml_model.evaluate(val_data)\n",
    "print('Validation accuracy:', val_acc)"
   ]
  },
  {
   "cell_type": "markdown",
   "id": "cd4e81df",
   "metadata": {},
   "source": [
    "# Saving the ML model"
   ]
  },
  {
   "cell_type": "code",
   "execution_count": 17,
   "id": "d5b0d15c",
   "metadata": {},
   "outputs": [],
   "source": [
    "ml_model.save('trained_chest_scan_model.keras')"
   ]
  },
  {
   "cell_type": "code",
   "execution_count": 18,
   "id": "c9b01a90",
   "metadata": {},
   "outputs": [
    {
     "data": {
      "text/plain": [
       "{'loss': [9.366715431213379,\n",
       "  1.1614660024642944,\n",
       "  0.904619574546814,\n",
       "  0.7746891975402832,\n",
       "  0.7308651804924011,\n",
       "  0.5552954077720642,\n",
       "  0.4893736243247986,\n",
       "  0.4790576696395874,\n",
       "  0.3311477303504944,\n",
       "  0.45025569200515747,\n",
       "  0.24458026885986328,\n",
       "  0.22184616327285767,\n",
       "  0.15030357241630554,\n",
       "  0.17905762791633606,\n",
       "  0.17677217721939087,\n",
       "  0.08260787278413773,\n",
       "  0.07277850061655045,\n",
       "  0.15870004892349243,\n",
       "  0.16879335045814514,\n",
       "  0.13760462403297424,\n",
       "  0.06940866261720657,\n",
       "  0.07052606344223022,\n",
       "  0.025198308750987053,\n",
       "  0.014140945859253407,\n",
       "  0.011683923192322254,\n",
       "  0.014771237038075924,\n",
       "  0.010714437812566757,\n",
       "  0.00974066462367773,\n",
       "  0.001208405359648168,\n",
       "  0.006754573434591293],\n",
       " 'accuracy': [0.2854812443256378,\n",
       "  0.45350733399391174,\n",
       "  0.6068515777587891,\n",
       "  0.6623165011405945,\n",
       "  0.7128874659538269,\n",
       "  0.7618270516395569,\n",
       "  0.804241418838501,\n",
       "  0.8026100993156433,\n",
       "  0.8776509165763855,\n",
       "  0.8238173127174377,\n",
       "  0.9151712656021118,\n",
       "  0.9151712656021118,\n",
       "  0.9575856328010559,\n",
       "  0.9265905618667603,\n",
       "  0.9380097985267639,\n",
       "  0.9738988876342773,\n",
       "  0.9706361889839172,\n",
       "  0.9559543132781982,\n",
       "  0.9477977156639099,\n",
       "  0.9543229937553406,\n",
       "  0.9771615266799927,\n",
       "  0.9820554852485657,\n",
       "  0.990212082862854,\n",
       "  0.995106041431427,\n",
       "  0.9967373609542847,\n",
       "  0.9983686804771423,\n",
       "  0.9967373609542847,\n",
       "  0.9967373609542847,\n",
       "  1.0,\n",
       "  0.9983686804771423],\n",
       " 'val_loss': [1.3752892017364502,\n",
       "  1.005001187324524,\n",
       "  0.8111010789871216,\n",
       "  0.9016362428665161,\n",
       "  0.6645666360855103,\n",
       "  0.7475683689117432,\n",
       "  0.9233112335205078,\n",
       "  0.8632681965827942,\n",
       "  0.641143262386322,\n",
       "  0.7364174723625183,\n",
       "  1.4420768022537231,\n",
       "  1.031303882598877,\n",
       "  0.5311925411224365,\n",
       "  1.3036820888519287,\n",
       "  0.6955439448356628,\n",
       "  1.1355892419815063,\n",
       "  0.878923773765564,\n",
       "  0.903792679309845,\n",
       "  0.9154431819915771,\n",
       "  0.5277289152145386,\n",
       "  0.7584898471832275,\n",
       "  0.6376574635505676,\n",
       "  0.40628495812416077,\n",
       "  0.41795945167541504,\n",
       "  0.3976835012435913,\n",
       "  0.4417845904827118,\n",
       "  0.42948296666145325,\n",
       "  0.4489717483520508,\n",
       "  0.4535585641860962,\n",
       "  0.4584994316101074],\n",
       " 'val_accuracy': [0.3472222089767456,\n",
       "  0.5416666865348816,\n",
       "  0.6666666865348816,\n",
       "  0.5138888955116272,\n",
       "  0.75,\n",
       "  0.7083333134651184,\n",
       "  0.6388888955116272,\n",
       "  0.7083333134651184,\n",
       "  0.7916666865348816,\n",
       "  0.7916666865348816,\n",
       "  0.6388888955116272,\n",
       "  0.7916666865348816,\n",
       "  0.8055555820465088,\n",
       "  0.6944444179534912,\n",
       "  0.8055555820465088,\n",
       "  0.7777777910232544,\n",
       "  0.8055555820465088,\n",
       "  0.7222222089767456,\n",
       "  0.7777777910232544,\n",
       "  0.8333333134651184,\n",
       "  0.7916666865348816,\n",
       "  0.8333333134651184,\n",
       "  0.875,\n",
       "  0.8611111044883728,\n",
       "  0.8888888955116272,\n",
       "  0.8888888955116272,\n",
       "  0.9027777910232544,\n",
       "  0.8888888955116272,\n",
       "  0.8888888955116272,\n",
       "  0.8888888955116272]}"
      ]
     },
     "execution_count": 18,
     "metadata": {},
     "output_type": "execute_result"
    }
   ],
   "source": [
    "history.history #here we return Dictionary of the training history"
   ]
  },
  {
   "cell_type": "code",
   "execution_count": 19,
   "id": "e457c0fb",
   "metadata": {},
   "outputs": [],
   "source": [
    "#Recording my model history in json\n",
    "import json\n",
    "with open('history.json','w') as f:\n",
    "  json.dump(history.history,f)"
   ]
  },
  {
   "cell_type": "code",
   "execution_count": 20,
   "id": "66c6043c",
   "metadata": {},
   "outputs": [
    {
     "name": "stdout",
     "output_type": "stream",
     "text": [
      "dict_keys(['loss', 'accuracy', 'val_loss', 'val_accuracy'])\n"
     ]
    }
   ],
   "source": [
    "print(history.history.keys())"
   ]
  },
  {
   "cell_type": "code",
   "execution_count": 21,
   "id": "49bbbe40",
   "metadata": {},
   "outputs": [
    {
     "data": {
      "image/png": "[encoded data removed]",
      "text/plain": [
       "<Figure size 640x480 with 1 Axes>"
      ]
     },
     "metadata": {},
     "output_type": "display_data"
    }
   ],
   "source": [
    "epochs = [i for i in range(1,31)]\n",
    "plt.plot(epochs,history.history['accuracy'],color='red',label='Training Accuracy')\n",
    "plt.plot(epochs,history.history['val_accuracy'],color='blue',label='Validation Accuracy')\n",
    "plt.xlabel('No. of Epochs')\n",
    "plt.title('Visualization of Accuracy Result')\n",
    "plt.legend()\n",
    "plt.show()"
   ]
  },
  {
   "cell_type": "markdown",
   "id": "fde25b60",
   "metadata": {},
   "source": [
    "# Checking other metrics for model evaluation"
   ]
  },
  {
   "cell_type": "code",
   "execution_count": 22,
   "id": "5a3bdead",
   "metadata": {},
   "outputs": [
    {
     "data": {
      "text/plain": [
       "['adenocarcinoma_left.lower.lobe_T2_N0_M0_Ib',\n",
       " 'large.cell.carcinoma_left.hilum_T2_N2_M0_IIIa',\n",
       " 'normal',\n",
       " 'squamous.cell.carcinoma_left.hilum_T1_N2_M0_IIIa']"
      ]
     },
     "execution_count": 22,
     "metadata": {},
     "output_type": "execute_result"
    }
   ],
   "source": [
    "class_name = val_data.class_names\n",
    "class_name"
   ]
  },
  {
   "cell_type": "code",
   "execution_count": 23,
   "id": "1a737792",
   "metadata": {},
   "outputs": [
    {
     "name": "stdout",
     "output_type": "stream",
     "text": [
      "Found 315 files belonging to 4 classes.\n"
     ]
    }
   ],
   "source": [
    "test_data= tf.keras.utils.image_dataset_from_directory(\n",
    "    'test',\n",
    "    labels=\"inferred\",\n",
    "    label_mode=\"categorical\",\n",
    "    class_names=None,\n",
    "    color_mode=\"rgb\",\n",
    "    batch_size=16,\n",
    "    image_size=(128, 128),\n",
    "    shuffle=False,\n",
    "    seed=None,\n",
    "    validation_split=None,\n",
    "    subset=None,\n",
    "    interpolation=\"bilinear\",\n",
    "    follow_links=False,\n",
    "    crop_to_aspect_ratio=False\n",
    ")"
   ]
  },
  {
   "cell_type": "code",
   "execution_count": 24,
   "id": "94168958",
   "metadata": {},
   "outputs": [
    {
     "name": "stdout",
     "output_type": "stream",
     "text": [
      "20/20 [==============================] - 6s 264ms/step\n"
     ]
    },
    {
     "data": {
      "text/plain": [
       "(array([[9.9003321e-01, 6.0139092e-07, 1.2093995e-10, 9.9661369e-03],\n",
       "        [4.5401384e-03, 1.3400391e-02, 1.2220964e-03, 9.8083740e-01],\n",
       "        [4.4877362e-01, 3.5587493e-02, 3.8193455e-03, 5.1181948e-01],\n",
       "        ...,\n",
       "        [3.5995594e-04, 4.0207524e-06, 2.7059948e-09, 9.9963593e-01],\n",
       "        [4.4629749e-07, 8.3619077e-04, 9.0892392e-04, 9.9825436e-01],\n",
       "        [9.6086849e-05, 9.4584185e-01, 1.7843295e-04, 5.3883601e-02]],\n",
       "       dtype=float32),\n",
       " (315, 4))"
      ]
     },
     "execution_count": 24,
     "metadata": {},
     "output_type": "execute_result"
    }
   ],
   "source": [
    "y_pred =ml_model.predict(test_data)\n",
    "y_pred,y_pred.shape"
   ]
  },
  {
   "cell_type": "code",
   "execution_count": 25,
   "id": "3fb38c49",
   "metadata": {},
   "outputs": [
    {
     "data": {
      "text/plain": [
       "<tf.Tensor: shape=(315,), dtype=int64, numpy=\n",
       "array([0, 3, 3, 3, 3, 1, 0, 3, 0, 3, 1, 3, 0, 3, 3, 1, 0, 1, 3, 3, 1, 0,\n",
       "       3, 3, 3, 3, 3, 3, 0, 1, 0, 1, 0, 3, 1, 1, 2, 0, 0, 0, 1, 3, 2, 1,\n",
       "       2, 0, 3, 0, 2, 3, 3, 3, 0, 2, 0, 2, 1, 3, 3, 1, 1, 3, 0, 2, 3, 0,\n",
       "       2, 1, 3, 3, 0, 3, 3, 0, 0, 3, 1, 0, 3, 1, 0, 3, 3, 3, 3, 3, 3, 0,\n",
       "       1, 0, 1, 3, 2, 1, 3, 1, 3, 0, 3, 1, 0, 3, 0, 3, 1, 2, 1, 1, 3, 3,\n",
       "       0, 1, 3, 1, 3, 3, 1, 0, 3, 2, 1, 1, 1, 1, 1, 3, 1, 1, 1, 1, 2, 1,\n",
       "       1, 0, 1, 1, 1, 1, 1, 1, 1, 0, 0, 1, 1, 1, 0, 3, 2, 1, 1, 1, 1, 3,\n",
       "       1, 3, 1, 1, 1, 1, 3, 1, 1, 1, 3, 1, 1, 1, 1, 1, 1, 2, 2, 2, 2, 2,\n",
       "       2, 2, 2, 2, 2, 2, 2, 2, 2, 2, 2, 2, 2, 2, 2, 2, 2, 2, 2, 0, 0, 1,\n",
       "       2, 2, 2, 2, 2, 2, 2, 2, 2, 2, 2, 2, 2, 2, 2, 2, 2, 2, 2, 2, 2, 2,\n",
       "       2, 2, 2, 2, 2, 3, 3, 3, 3, 3, 3, 3, 3, 3, 3, 1, 3, 3, 3, 3, 3, 3,\n",
       "       3, 3, 3, 1, 1, 3, 3, 3, 1, 3, 1, 1, 3, 0, 1, 1, 3, 3, 3, 3, 3, 3,\n",
       "       3, 3, 3, 1, 3, 1, 3, 3, 3, 3, 3, 3, 3, 3, 3, 3, 1, 3, 3, 3, 3, 1,\n",
       "       3, 3, 3, 1, 3, 3, 3, 3, 3, 3, 0, 3, 3, 3, 3, 3, 3, 3, 3, 3, 3, 1,\n",
       "       3, 3, 0, 3, 3, 3, 1], dtype=int64)>"
      ]
     },
     "execution_count": 25,
     "metadata": {},
     "output_type": "execute_result"
    }
   ],
   "source": [
    "#selecting the maximum probability class\n",
    "predicted_categories = tf.argmax(y_pred, axis=1)\n",
    "predicted_categories"
   ]
  },
  {
   "cell_type": "code",
   "execution_count": 26,
   "id": "57250893",
   "metadata": {},
   "outputs": [
    {
     "data": {
      "text/plain": [
       "<tf.Tensor: shape=(315,), dtype=int64, numpy=\n",
       "array([0, 0, 0, 0, 0, 0, 0, 0, 0, 0, 0, 0, 0, 0, 0, 0, 0, 0, 0, 0, 0, 0,\n",
       "       0, 0, 0, 0, 0, 0, 0, 0, 0, 0, 0, 0, 0, 0, 0, 0, 0, 0, 0, 0, 0, 0,\n",
       "       0, 0, 0, 0, 0, 0, 0, 0, 0, 0, 0, 0, 0, 0, 0, 0, 0, 0, 0, 0, 0, 0,\n",
       "       0, 0, 0, 0, 0, 0, 0, 0, 0, 0, 0, 0, 0, 0, 0, 0, 0, 0, 0, 0, 0, 0,\n",
       "       0, 0, 0, 0, 0, 0, 0, 0, 0, 0, 0, 0, 0, 0, 0, 0, 0, 0, 0, 0, 0, 0,\n",
       "       0, 0, 0, 0, 0, 0, 0, 0, 0, 0, 1, 1, 1, 1, 1, 1, 1, 1, 1, 1, 1, 1,\n",
       "       1, 1, 1, 1, 1, 1, 1, 1, 1, 1, 1, 1, 1, 1, 1, 1, 1, 1, 1, 1, 1, 1,\n",
       "       1, 1, 1, 1, 1, 1, 1, 1, 1, 1, 1, 1, 1, 1, 1, 1, 1, 2, 2, 2, 2, 2,\n",
       "       2, 2, 2, 2, 2, 2, 2, 2, 2, 2, 2, 2, 2, 2, 2, 2, 2, 2, 2, 2, 2, 2,\n",
       "       2, 2, 2, 2, 2, 2, 2, 2, 2, 2, 2, 2, 2, 2, 2, 2, 2, 2, 2, 2, 2, 2,\n",
       "       2, 2, 2, 2, 2, 3, 3, 3, 3, 3, 3, 3, 3, 3, 3, 3, 3, 3, 3, 3, 3, 3,\n",
       "       3, 3, 3, 3, 3, 3, 3, 3, 3, 3, 3, 3, 3, 3, 3, 3, 3, 3, 3, 3, 3, 3,\n",
       "       3, 3, 3, 3, 3, 3, 3, 3, 3, 3, 3, 3, 3, 3, 3, 3, 3, 3, 3, 3, 3, 3,\n",
       "       3, 3, 3, 3, 3, 3, 3, 3, 3, 3, 3, 3, 3, 3, 3, 3, 3, 3, 3, 3, 3, 3,\n",
       "       3, 3, 3, 3, 3, 3, 3], dtype=int64)>"
      ]
     },
     "execution_count": 26,
     "metadata": {},
     "output_type": "execute_result"
    }
   ],
   "source": [
    "# we need the true categories\n",
    "true_categories = tf.concat([y for x, y in test_data], axis=0)#axis =0 concats in row fashion\n",
    "Y_true = tf.argmax(true_categories, axis=1)\n",
    "Y_true"
   ]
  },
  {
   "cell_type": "code",
   "execution_count": 27,
   "id": "6bc123f8",
   "metadata": {},
   "outputs": [
    {
     "name": "stdout",
     "output_type": "stream",
     "text": [
      "                                                  precision    recall  f1-score   support\n",
      "\n",
      "      adenocarcinoma_left.lower.lobe_T2_N0_M0_Ib       0.77      0.25      0.38       120\n",
      "   large.cell.carcinoma_left.hilum_T2_N2_M0_IIIa       0.47      0.76      0.58        51\n",
      "                                          normal       0.80      0.94      0.86        54\n",
      "squamous.cell.carcinoma_left.hilum_T1_N2_M0_IIIa       0.56      0.80      0.66        90\n",
      "\n",
      "                                        accuracy                           0.61       315\n",
      "                                       macro avg       0.65      0.69      0.62       315\n",
      "                                    weighted avg       0.67      0.61      0.57       315\n",
      "\n"
     ]
    }
   ],
   "source": [
    "from sklearn.metrics import confusion_matrix,classification_report\n",
    "cm = confusion_matrix(Y_true,predicted_categories)\n",
    "# Printing the classification report\n",
    "print(classification_report(Y_true,predicted_categories,target_names=class_name))"
   ]
  },
  {
   "cell_type": "markdown",
   "id": "289d92a2",
   "metadata": {},
   "source": [
    "# Visualizing the confusion matrix"
   ]
  },
  {
   "cell_type": "code",
   "execution_count": 28,
   "id": "962abddf",
   "metadata": {},
   "outputs": [
    {
     "data": {
      "image/png": "[encoded data removed]",
      "text/plain": [
       "<Figure size 600x400 with 2 Axes>"
      ]
     },
     "metadata": {},
     "output_type": "display_data"
    }
   ],
   "source": [
    "plt.figure(figsize=(6, 4))\n",
    "sn.heatmap(cm,annot=True,annot_kws={\"size\": 10})\n",
    "\n",
    "plt.xlabel('Predicted Class',fontsize = 10)\n",
    "plt.ylabel('Actual Class',fontsize = 10)\n",
    "plt.title('Chest Cancer Prediction Confusion Matrix',fontsize = 25)\n",
    "plt.show()"
   ]
  },
  {
   "cell_type": "code",
   "execution_count": null,
   "id": "9afb2287",
   "metadata": {},
   "outputs": [],
   "source": []
  },
  {
   "cell_type": "code",
   "execution_count": null,
   "id": "47db5de5",
   "metadata": {},
   "outputs": [],
   "source": []
  }
 ],
 "metadata": {
  "kernelspec": {
   "display_name": "Python 3 (ipykernel)",
   "language": "python",
   "name": "python3"
  },
  "language_info": {
   "codemirror_mode": {
    "name": "ipython",
    "version": 3
   },
   "file_extension": ".py",
   "mimetype": "text/x-python",
   "name": "python",
   "nbconvert_exporter": "python",
   "pygments_lexer": "ipython3",
   "version": "3.9.13"
  }
 },
 "nbformat": 4,
 "nbformat_minor": 5
}
